{
 "cells": [
  {
   "cell_type": "code",
   "execution_count": 84,
   "id": "fda64b44-4df4-4dee-b0aa-11b7e1b0f226",
   "metadata": {},
   "outputs": [],
   "source": [
    "import torch\n",
    "import numpy as np\n",
    "\n",
    "import matplotlib.pyplot as plt\n",
    "%matplotlib inline"
   ]
  },
  {
   "cell_type": "code",
   "execution_count": 85,
   "id": "f796e5ee-190c-4857-91e6-95ff096af8e8",
   "metadata": {},
   "outputs": [],
   "source": [
    "import torch\n",
    "import torch.nn as nn\n",
    "import torch.nn.functional as F\n",
    "\n",
    "class BayesianFlowNetwork(nn.Module):\n",
    "    \"\"\"\n",
    "    Bayesian Flow Network (BFN) model.\n",
    "    \n",
    "    Parameters\n",
    "    ----------\n",
    "    D : int, default=2\n",
    "        Dimensionality of the data.\n",
    "    K : int, default=2\n",
    "        Number of classes.\n",
    "    hidden_dim : int, default=16\n",
    "        Dimension of the hidden layer.\n",
    "    \"\"\"\n",
    "\n",
    "    def __init__(self, D=2, K=2, hidden_dim=32, beta=3.0):\n",
    "        super(BayesianFlowNetwork, self).__init__()\n",
    "        self.beta = beta\n",
    "        self.D = D\n",
    "        self.K = K\n",
    "        # Define the number of output classes based on K\n",
    "        output_classes = K if K > 2 else 1\n",
    "\n",
    "        # Define the neural network layers\n",
    "        self.layer = nn.Sequential(\n",
    "            nn.Linear(D * K + 1, hidden_dim),\n",
    "            nn.GELU(),\n",
    "            nn.Linear(hidden_dim, D * output_classes)\n",
    "        )\n",
    "\n",
    "    def forward(self, theta, t):\n",
    "        \"\"\"\n",
    "        Forward pass of the Bayesian Flow Network.\n",
    "        \n",
    "        Parameters\n",
    "        ----------\n",
    "        theta : torch.Tensor\n",
    "            Tensor of shape (B, D, K).\n",
    "        t : torch.Tensor\n",
    "            Tensor of shape (B,).\n",
    "        \n",
    "        Returns\n",
    "        -------\n",
    "        torch.Tensor\n",
    "            Output tensor of shape (B, D, K).\n",
    "        \"\"\"\n",
    "        theta = (theta * 2) - 1  # scaled in [-1, 1]\n",
    "        theta = theta.view(theta.shape[0], -1)  # (B, D * K)\n",
    "        input_ = torch.cat((theta, t.unsqueeze(-1)), dim=-1)\n",
    "        output = self.layer(input_)  # (B, D * K)\n",
    "        output = output.view(output.shape[0], self.D, -1)\n",
    "        return output\n",
    "\n",
    "    \n",
    "    def discrete_output_distribution(self, theta, t):\n",
    "        \"\"\"\n",
    "        Computes the discrete output distribution.\n",
    "\n",
    "        Algorithm \n",
    "        \n",
    "        Parameters\n",
    "        ----------\n",
    "        theta : torch.Tensor\n",
    "            Input tensor of shape (B, D, K).\n",
    "        t : torch.Tensor\n",
    "            Time tensor of shape (B,).\n",
    "        \n",
    "        Returns\n",
    "        -------\n",
    "        torch.Tensor\n",
    "            Output probability tensor. For K=2, shape is (B, D, 2). \n",
    "            Otherwise, shape is (B, D, K).\n",
    "        \"\"\"\n",
    "        B, D, K = theta.shape\n",
    "    \n",
    "        # Get the forward pass output and reshape\n",
    "        output = self.forward(theta, t)\n",
    "    \n",
    "        # Check the number of classes and compute the output probabilities accordingly \n",
    "        if K == 2:\n",
    "            p0_1 = torch.sigmoid(output)  # (B, D, 1)\n",
    "            p0_2 = 1 - p0_1\n",
    "            p0 = torch.cat((p0_1, p0_2), dim=-1)  # (B, D, 2)\n",
    "        else:\n",
    "            p0 = torch.nn.functional.softmax(output, dim=-1)\n",
    "        return p0\n",
    "\n",
    "    def process(self, x):\n",
    "        B, D = x.shape\n",
    "        # print(f\"B {B}, D {D}\")\n",
    "        \n",
    "        # Step 1: Sample t from U(0, 1)\n",
    "        t = torch.rand((x.size(0),), device=x.device, dtype=torch.float32)\n",
    "\n",
    "        # Step 2: Calculate Beta\n",
    "        beta = self.beta * (t ** 2)  # (B,)\n",
    "\n",
    "        # Step 3: Sample y from N(beta * (K * one_hot(X)) \n",
    "        one_hot_x = F.one_hot(x, num_classes=self.K).float()  # (B, D, K)\n",
    "        mean = beta[:, None, None] * (self.K * one_hot_x - 1)\n",
    "        std = (beta * self.K)[:, None, None].sqrt()\n",
    "        eps = torch.randn_like(mean)\n",
    "        y = mean + std * eps\n",
    "\n",
    "        # Step 4: Compute the Theta\n",
    "        theta = F.softmax(y, dim=-1)\n",
    "\n",
    "        # Step 5: Calculate the output distribution\n",
    "        p_0 = self.discrete_output_distribution(theta, t)  # (B, D, K)\n",
    "\n",
    "        e_x = one_hot_x\n",
    "        e_hat = p_0  # (B, D, K)\n",
    "        L_infinity = self.K * self.beta * t[:, None, None] * ((e_x - e_hat) ** 2)\n",
    "        return L_infinity.mean()\n",
    "\n",
    "    @torch.inference_mode()\n",
    "    def sample(self, batch_size=128, nb_steps=10, device='cpu'):\n",
    "        self.eval()\n",
    "        \n",
    "        # get prior \n",
    "        theta = torch.ones((batch_size, self.D, self.K), device=device) / self.K\n",
    "\n",
    "        for i in range(1, nb_steps+1):\n",
    "            t = (i-1) / nb_steps\n",
    "            t = t * torch.ones((theta.shape[0]), device=theta.device, dtype=theta.dtype)\n",
    "            \n",
    "            k_probs = self.discrete_output_distribution(theta, t)  # (B, D, K)\n",
    "            k = torch.distributions.Categorical(probs=k_probs).sample()  # (B, D)\n",
    "            alpha = self.beta * (2 * i - 1) / (nb_steps ** 2)\n",
    "\n",
    "            e_k = F.one_hot(k, num_classes=self.K).float()  # (B, D, K)\n",
    "            mean = alpha * (self.K * e_k - 1)\n",
    "            var = (alpha * self.K)\n",
    "            std = torch.full_like(mean, fill_value=var).sqrt()\n",
    "            eps = torch.randn_like(e_k)\n",
    "            \n",
    "            y = mean + std * eps  # (B, D, K)\n",
    "            \n",
    "            theta_prime = torch.exp(y) * theta\n",
    "            theta = theta_prime / theta_prime.sum(-1, keepdim=True)\n",
    "\n",
    "        k_probs_final = self.discrete_output_distribution(theta, torch.ones_like(t))\n",
    "        k_final = torch.distributions.Categorical(probs=k_probs_final).sample()\n",
    "\n",
    "        return k_final"
   ]
  },
  {
   "cell_type": "code",
   "execution_count": 86,
   "id": "7966eaba-cc5a-46d1-a62d-9a13a605e851",
   "metadata": {},
   "outputs": [
    {
     "data": {
      "image/png": "[encoded data removed]",
      "text/plain": [
       "<Figure size 432x288 with 1 Axes>"
      ]
     },
     "metadata": {
      "needs_background": "light"
     },
     "output_type": "display_data"
    }
   ],
   "source": [
    "\n",
    "# network should learn:\n",
    "# when x0 = 0, x1 = 1\n",
    "# when x0 = 1, x1 = 0\n",
    "def get_datapoint(batch=128, device='cpu'):\n",
    "    x0 = torch.randint(0, 2, size=(batch,), dtype=torch.bool, device=device)\n",
    "    x1 = ~x0\n",
    "\n",
    "    X = torch.stack([x0, x1], dim=0)\n",
    "    return X.long().transpose(0, 1)\n",
    "\n",
    "X = get_datapoint()  # (B, D=2) with K=2 classes \n",
    "\n",
    "plt.title(\"Dataset\")\n",
    "plt.scatter(X[0, :], X[1, :]);\n",
    "plt.grid()"
   ]
  },
  {
   "cell_type": "code",
   "execution_count": 87,
   "id": "5d74d490-e08d-498b-8cea-453ef2170843",
   "metadata": {},
   "outputs": [
    {
     "data": {
      "application/vnd.jupyter.widget-view+json": {
       "model_id": "0d21245ae7ee418ca65732ff15245acc",
       "version_major": 2,
       "version_minor": 0
      },
      "text/plain": [
       "  0%|          | 0/1000 [00:00<?, ?it/s]"
      ]
     },
     "metadata": {},
     "output_type": "display_data"
    },
    {
     "data": {
      "text/plain": [
       "[<matplotlib.lines.Line2D at 0x7f1b001018b0>]"
      ]
     },
     "execution_count": 87,
     "metadata": {},
     "output_type": "execute_result"
    },
    {
     "data": {
      "image/png": "[encoded data removed]",
      "text/plain": [
       "<Figure size 432x288 with 1 Axes>"
      ]
     },
     "metadata": {
      "needs_background": "light"
     },
     "output_type": "display_data"
    }
   ],
   "source": [
    "from torch.optim import AdamW\n",
    "from tqdm.auto import tqdm\n",
    "\n",
    "bfn = BayesianFlowNetwork()\n",
    "bfn.cuda()\n",
    "\n",
    "optim = AdamW(bfn.parameters(), lr=1e-2)\n",
    "\n",
    "\n",
    "n = 1000\n",
    "losses = []\n",
    "for i in tqdm(range(n)):\n",
    "    optim.zero_grad()\n",
    "\n",
    "    X = get_datapoint(device='cuda')\n",
    "    loss = bfn.process(X)\n",
    "    loss.backward()\n",
    "\n",
    "    optim.step()\n",
    "\n",
    "    losses.append(loss.item())\n",
    "\n",
    "plt.plot(losses)"
   ]
  },
  {
   "cell_type": "code",
   "execution_count": 88,
   "id": "45f12b6b-cab6-4e9c-b1c4-a5f4d5da694f",
   "metadata": {},
   "outputs": [],
   "source": [
    "x_hat = bfn.sample(device='cuda', nb_steps=100).cpu().numpy()\n",
    "x_hat = x_hat + (np.random.randn(*x_hat.shape) * 0.1)"
   ]
  },
  {
   "cell_type": "code",
   "execution_count": 89,
   "id": "c6cdf63d-fe83-4e85-bbd7-d2a4ee6de15a",
   "metadata": {},
   "outputs": [
    {
     "data": {
      "image/png": "[encoded data removed]",
      "text/plain": [
       "<Figure size 432x288 with 1 Axes>"
      ]
     },
     "metadata": {
      "needs_background": "light"
     },
     "output_type": "display_data"
    }
   ],
   "source": [
    "plt.title(\"Samples\")\n",
    "plt.scatter(x_hat[:, 0], x_hat[:, 1]);\n",
    "plt.grid()"
   ]
  },
  {
   "cell_type": "code",
   "execution_count": null,
   "id": "2bec6e6b-442d-4804-bb49-dd5960a8f64d",
   "metadata": {},
   "outputs": [],
   "source": []
  },
  {
   "cell_type": "code",
   "execution_count": null,
   "id": "147de7bd-3ef2-4d75-9fcd-b7c6dfef7a5f",
   "metadata": {},
   "outputs": [],
   "source": []
  },
  {
   "cell_type": "code",
   "execution_count": null,
   "id": "5ae2d3c9-1160-437a-9828-57b46dd46746",
   "metadata": {},
   "outputs": [],
   "source": []
  }
 ],
 "metadata": {
  "kernelspec": {
   "display_name": "Python 3",
   "language": "python",
   "name": "python3"
  },
  "language_info": {
   "codemirror_mode": {
    "name": "ipython",
    "version": 3
   },
   "file_extension": ".py",
   "mimetype": "text/x-python",
   "name": "python",
   "nbconvert_exporter": "python",
   "pygments_lexer": "ipython3",
   "version": "3.8.10"
  }
 },
 "nbformat": 4,
 "nbformat_minor": 5
}
